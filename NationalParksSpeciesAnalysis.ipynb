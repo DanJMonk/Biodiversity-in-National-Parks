{
 "cells": [
  {
   "cell_type": "markdown",
   "metadata": {},
   "source": [
    "# Biodiversity Analysis Project"
   ]
  },
  {
   "cell_type": "markdown",
   "metadata": {},
   "source": [
    "## Project Scope\n",
    "\n",
    "This project aims to address the decline in biodiversity within national parks, a concern that affects environmental health and community well-being. Using existing species data from four national parks, patterns are analyzed in species endangerment to develop predictive models to identify at-risk species. The goal is to enhance biodiversity monitoring and enable proactive conservation efforts. The following scope outlines the problem, goals, data, analysis, and evaluation for this project.\n",
    "\n",
    "### Problem\n",
    "Problem\n",
    "The decline in biodiversity within national parks poses environmental, economic, and cultural threats. Endangered species in these parks need to be identified and protected to maintain ecological balance.\n",
    "\n",
    "Impact\n",
    "This issue impacts environmentalists, park authorities, tourists, and local communities. Loss of biodiversity can lead to ecosystem imbalance, affecting everyone relying on these ecosystems.\n",
    "\n",
    "Current Solutions & Gaps:\n",
    "Present solutions include tracking species through manual surveys and limited technological tools. Gaps include lack of comprehensive data, real-time monitoring, and predictive analysis for proactive measures.\n",
    "\n",
    "### Goals\n",
    "\n",
    "Goals \n",
    "To identify patterns and themes in species becoming endangered in national parks and to predict species most at risk.\n",
    "\n",
    "Key Questions\n",
    "- What is the distribution of conservation_status for animals?\n",
    "- Are the differences between species and their conservation status significant?\n",
    "- Are certain types of species more likely to be endangered?\n",
    "- What is the distribution for protected species at each park?\n",
    "- Is there correlation between protected plant sightings and protected animal sightings?\n",
    "\n",
    "Success Metrics\n",
    "Successful prediction models for identification of key factors leading to endangerment, and implementation suggestions for effective conservation strategies based on findings.\n",
    "\n",
    "\n",
    "### Data\n",
    "\n",
    "Internal Data\n",
    "Existing records of 5,541 species in 4 national parks, providing historical data on species name, species category, and conservation status. There are also 23,296 records of observations of species seen within the last 7 days at these parks.\n",
    "\n",
    "External Data Needs\n",
    "N/A for the scope of this project. \n",
    "\n",
    "\n",
    "### Analysis\n",
    "\n",
    "Analysis Type\n",
    "Descriptive analysis of current species, data visualizations, predictive modeling for species at risk, and detection of patterns in endangerment.\n",
    "\n",
    "Some of the key metrics that will be computed include: \n",
    "\n",
    "- Distributions\n",
    "- counts\n",
    "- relationship between species\n",
    "- conservation status of species\n",
    "- observations of species in parks. \n",
    "\n",
    "### Evaluation\n",
    "\n",
    "Though outside the scope of this project, it would be beneficial to assess the accuracy and impact of the predictive models and conservation strategies through a combination of field validation and data analysis. Feedback from park authorities and environmental experts will play a crucial role in measuring the effectiveness of the interventions. Periodic reviews of biodiversity changes in the national parks, compared against baseline data, will provide tangible metrics of success. This continuous evaluation process will not only ensure the project's alignment with its goals but also guide necessary adjustments for sustained ecological improvement and effective resource management.\n"
   ]
  },
  {
   "cell_type": "markdown",
   "metadata": {},
   "source": [
    "## Project Starts"
   ]
  },
  {
   "cell_type": "markdown",
   "metadata": {},
   "source": [
    "### Import Modules"
   ]
  },
  {
   "cell_type": "code",
   "execution_count": 1,
   "metadata": {
    "scrolled": true
   },
   "outputs": [],
   "source": [
    "# Import modules\n",
    "import pandas as pd\n",
    "import numpy as np\n",
    "import matplotlib.pyplot as plt\n",
    "import seaborn as sns\n",
    "%matplotlib inline"
   ]
  },
  {
   "cell_type": "markdown",
   "metadata": {},
   "source": [
    "### Import Data\n",
    "\n",
    "To analyze the status of conservation of species and their observations in national parks, load the datasets into DataFrames. Once loaded as DataFrames the data can be explored and visualized with Python.\n",
    "\n",
    "In the next steps, Observations.csv and Species_info.csv are read in as DataFrames called species and obsiervations. The newly created DataFrames are viewed with .head() to check its contents."
   ]
  },
  {
   "cell_type": "code",
   "execution_count": 2,
   "metadata": {},
   "outputs": [
    {
     "data": {
      "text/html": [
       "<div>\n",
       "<style scoped>\n",
       "    .dataframe tbody tr th:only-of-type {\n",
       "        vertical-align: middle;\n",
       "    }\n",
       "\n",
       "    .dataframe tbody tr th {\n",
       "        vertical-align: top;\n",
       "    }\n",
       "\n",
       "    .dataframe thead th {\n",
       "        text-align: right;\n",
       "    }\n",
       "</style>\n",
       "<table border=\"1\" class=\"dataframe\">\n",
       "  <thead>\n",
       "    <tr style=\"text-align: right;\">\n",
       "      <th></th>\n",
       "      <th>category</th>\n",
       "      <th>scientific_name</th>\n",
       "      <th>common_names</th>\n",
       "      <th>conservation_status</th>\n",
       "    </tr>\n",
       "  </thead>\n",
       "  <tbody>\n",
       "    <tr>\n",
       "      <th>0</th>\n",
       "      <td>Mammal</td>\n",
       "      <td>Clethrionomys gapperi gapperi</td>\n",
       "      <td>Gapper's Red-Backed Vole</td>\n",
       "      <td>NaN</td>\n",
       "    </tr>\n",
       "    <tr>\n",
       "      <th>1</th>\n",
       "      <td>Mammal</td>\n",
       "      <td>Bos bison</td>\n",
       "      <td>American Bison, Bison</td>\n",
       "      <td>NaN</td>\n",
       "    </tr>\n",
       "    <tr>\n",
       "      <th>2</th>\n",
       "      <td>Mammal</td>\n",
       "      <td>Bos taurus</td>\n",
       "      <td>Aurochs, Aurochs, Domestic Cattle (Feral), Dom...</td>\n",
       "      <td>NaN</td>\n",
       "    </tr>\n",
       "    <tr>\n",
       "      <th>3</th>\n",
       "      <td>Mammal</td>\n",
       "      <td>Ovis aries</td>\n",
       "      <td>Domestic Sheep, Mouflon, Red Sheep, Sheep (Feral)</td>\n",
       "      <td>NaN</td>\n",
       "    </tr>\n",
       "    <tr>\n",
       "      <th>4</th>\n",
       "      <td>Mammal</td>\n",
       "      <td>Cervus elaphus</td>\n",
       "      <td>Wapiti Or Elk</td>\n",
       "      <td>NaN</td>\n",
       "    </tr>\n",
       "  </tbody>\n",
       "</table>\n",
       "</div>"
      ],
      "text/plain": [
       "  category                scientific_name  \\\n",
       "0   Mammal  Clethrionomys gapperi gapperi   \n",
       "1   Mammal                      Bos bison   \n",
       "2   Mammal                     Bos taurus   \n",
       "3   Mammal                     Ovis aries   \n",
       "4   Mammal                 Cervus elaphus   \n",
       "\n",
       "                                        common_names conservation_status  \n",
       "0                           Gapper's Red-Backed Vole                 NaN  \n",
       "1                              American Bison, Bison                 NaN  \n",
       "2  Aurochs, Aurochs, Domestic Cattle (Feral), Dom...                 NaN  \n",
       "3  Domestic Sheep, Mouflon, Red Sheep, Sheep (Feral)                 NaN  \n",
       "4                                      Wapiti Or Elk                 NaN  "
      ]
     },
     "execution_count": 2,
     "metadata": {},
     "output_type": "execute_result"
    }
   ],
   "source": [
    "# Upload species data\n",
    "species = pd.read_csv(\"/Users/Dan/Downloads/biodiversity_starter/species_info.csv\")\n",
    "\n",
    "species.head()"
   ]
  },
  {
   "cell_type": "markdown",
   "metadata": {},
   "source": [
    "#### Species Data\n",
    "The species_info.csv contains information on the different species in the National Parks. \n",
    "\n",
    "The columns in the data set include: \n",
    "- category - The category of taxonomy for each species \n",
    "- scientific_name - The scientific name of each species \n",
    "- common_names - The common names of each species \n",
    "- conservation_status - The species conservation status"
   ]
  },
  {
   "cell_type": "code",
   "execution_count": 3,
   "metadata": {},
   "outputs": [
    {
     "data": {
      "text/html": [
       "<div>\n",
       "<style scoped>\n",
       "    .dataframe tbody tr th:only-of-type {\n",
       "        vertical-align: middle;\n",
       "    }\n",
       "\n",
       "    .dataframe tbody tr th {\n",
       "        vertical-align: top;\n",
       "    }\n",
       "\n",
       "    .dataframe thead th {\n",
       "        text-align: right;\n",
       "    }\n",
       "</style>\n",
       "<table border=\"1\" class=\"dataframe\">\n",
       "  <thead>\n",
       "    <tr style=\"text-align: right;\">\n",
       "      <th></th>\n",
       "      <th>scientific_name</th>\n",
       "      <th>park_name</th>\n",
       "      <th>observations</th>\n",
       "    </tr>\n",
       "  </thead>\n",
       "  <tbody>\n",
       "    <tr>\n",
       "      <th>0</th>\n",
       "      <td>Vicia benghalensis</td>\n",
       "      <td>Great Smoky Mountains National Park</td>\n",
       "      <td>68</td>\n",
       "    </tr>\n",
       "    <tr>\n",
       "      <th>1</th>\n",
       "      <td>Neovison vison</td>\n",
       "      <td>Great Smoky Mountains National Park</td>\n",
       "      <td>77</td>\n",
       "    </tr>\n",
       "    <tr>\n",
       "      <th>2</th>\n",
       "      <td>Prunus subcordata</td>\n",
       "      <td>Yosemite National Park</td>\n",
       "      <td>138</td>\n",
       "    </tr>\n",
       "    <tr>\n",
       "      <th>3</th>\n",
       "      <td>Abutilon theophrasti</td>\n",
       "      <td>Bryce National Park</td>\n",
       "      <td>84</td>\n",
       "    </tr>\n",
       "    <tr>\n",
       "      <th>4</th>\n",
       "      <td>Githopsis specularioides</td>\n",
       "      <td>Great Smoky Mountains National Park</td>\n",
       "      <td>85</td>\n",
       "    </tr>\n",
       "  </tbody>\n",
       "</table>\n",
       "</div>"
      ],
      "text/plain": [
       "            scientific_name                            park_name  observations\n",
       "0        Vicia benghalensis  Great Smoky Mountains National Park            68\n",
       "1            Neovison vison  Great Smoky Mountains National Park            77\n",
       "2         Prunus subcordata               Yosemite National Park           138\n",
       "3      Abutilon theophrasti                  Bryce National Park            84\n",
       "4  Githopsis specularioides  Great Smoky Mountains National Park            85"
      ]
     },
     "execution_count": 3,
     "metadata": {},
     "output_type": "execute_result"
    }
   ],
   "source": [
    "# Upload observations data\n",
    "observations = pd.read_csv(\"/Users/Dan/Downloads/biodiversity_starter/observations.csv\")\n",
    "\n",
    "observations.head()"
   ]
  },
  {
   "cell_type": "markdown",
   "metadata": {},
   "source": [
    "#### Observations Data\n",
    "The Observations.csv contains information from recorded sightings of different species throughout the national parks in the past 7 days. \n",
    "\n",
    "The columns included are: \n",
    "- scientific_name - The scientific name of each species park_name \n",
    "- park_name - The name of the national park observations \n",
    "- observations - The number of observations in the past 7 days"
   ]
  },
  {
   "cell_type": "markdown",
   "metadata": {},
   "source": [
    "### Exploratory data analysis\n",
    "Initial review to form foundational understanding of data and discover patterns."
   ]
  },
  {
   "cell_type": "markdown",
   "metadata": {},
   "source": [
    "#### Species EDA (see below)\n",
    "\n",
    "Data type:\n",
    "From a Brief review of data it looks like the data types can remain as objects for our analysis. \n",
    "\n",
    "Data format:\n",
    "The common_names column has multiple values per row. This will be okay for our analysis.\n",
    "\n",
    "Missing data:\n",
    "Yes there is a significant amount of blank data in the conservation_status (5,633). From further review it has been determined that these values are blank for species that are not currently in need of conservation. The values will be renamed 'Low Concern'. "
   ]
  },
  {
   "cell_type": "code",
   "execution_count": 4,
   "metadata": {},
   "outputs": [
    {
     "name": "stdout",
     "output_type": "stream",
     "text": [
      "category               5824\n",
      "scientific_name        5824\n",
      "common_names           5824\n",
      "conservation_status     191\n",
      "dtype: int64\n",
      "\n",
      "<class 'pandas.core.frame.DataFrame'>\n",
      "RangeIndex: 5824 entries, 0 to 5823\n",
      "Data columns (total 4 columns):\n",
      " #   Column               Non-Null Count  Dtype \n",
      "---  ------               --------------  ----- \n",
      " 0   category             5824 non-null   object\n",
      " 1   scientific_name      5824 non-null   object\n",
      " 2   common_names         5824 non-null   object\n",
      " 3   conservation_status  191 non-null    object\n",
      "dtypes: object(4)\n",
      "memory usage: 182.1+ KB\n",
      "None\n",
      "\n",
      "Index(['category', 'scientific_name', 'common_names', 'conservation_status'], dtype='object')\n",
      "\n",
      "['Mammal' 'Bird' 'Reptile' 'Amphibian' 'Fish' 'Vascular Plant'\n",
      " 'Nonvascular Plant']\n"
     ]
    }
   ],
   "source": [
    "# SPECIES DATA -Exploritory data analysis\n",
    "print(species.count())\n",
    "print()\n",
    "print(species.info())\n",
    "print()\n",
    "print(species.columns)\n",
    "print()\n",
    "print(species['category'].unique())"
   ]
  },
  {
   "cell_type": "markdown",
   "metadata": {},
   "source": [
    "#### Observations EDA (see below)\n",
    "\n",
    "Data type:\n",
    "From a Brief review of data it looks like the data types can remain as objects and ing64 for our analysis. \n",
    "\n",
    "Data format:\n",
    "Format seems okay for our analysis.\n",
    "\n",
    "Missing data:\n",
    "No missing data, but with a data set this large there is potential for duplicate rows."
   ]
  },
  {
   "cell_type": "code",
   "execution_count": 5,
   "metadata": {},
   "outputs": [
    {
     "name": "stdout",
     "output_type": "stream",
     "text": [
      "scientific_name    23296\n",
      "park_name          23296\n",
      "observations       23296\n",
      "dtype: int64\n",
      "\n",
      "<class 'pandas.core.frame.DataFrame'>\n",
      "RangeIndex: 23296 entries, 0 to 23295\n",
      "Data columns (total 3 columns):\n",
      " #   Column           Non-Null Count  Dtype \n",
      "---  ------           --------------  ----- \n",
      " 0   scientific_name  23296 non-null  object\n",
      " 1   park_name        23296 non-null  object\n",
      " 2   observations     23296 non-null  int64 \n",
      "dtypes: int64(1), object(2)\n",
      "memory usage: 546.1+ KB\n",
      "None\n",
      "\n",
      "Index(['scientific_name', 'park_name', 'observations'], dtype='object')\n",
      "\n",
      "['Great Smoky Mountains National Park' 'Yosemite National Park'\n",
      " 'Bryce National Park' 'Yellowstone National Park']\n"
     ]
    }
   ],
   "source": [
    "# OBSERVATION DATA Exploritory data analysis \n",
    "print(observations.count())\n",
    "print()\n",
    "print(observations.info())\n",
    "print()\n",
    "print(observations.columns)\n",
    "print()\n",
    "print(observations['park_name'].unique())"
   ]
  },
  {
   "cell_type": "markdown",
   "metadata": {},
   "source": [
    "### Clean Data\n",
    "Check for duplicates and rename empty values in species conservation status."
   ]
  },
  {
   "cell_type": "code",
   "execution_count": 6,
   "metadata": {},
   "outputs": [
    {
     "name": "stdout",
     "output_type": "stream",
     "text": [
      "Empty DataFrame\n",
      "Columns: [category, scientific_name, common_names, conservation_status]\n",
      "Index: []\n"
     ]
    }
   ],
   "source": [
    "# SPECIES - Check for duplicates \n",
    "# No duplicates\n",
    "\n",
    "duplicate_rows = species[species.duplicated(['category', 'scientific_name', 'common_names', 'conservation_status'])]                                  \n",
    "\n",
    "print(duplicate_rows)"
   ]
  },
  {
   "cell_type": "code",
   "execution_count": 7,
   "metadata": {},
   "outputs": [
    {
     "name": "stdout",
     "output_type": "stream",
     "text": [
      "              scientific_name                            park_name  \\\n",
      "7263   Echinochloa crus-galli  Great Smoky Mountains National Park   \n",
      "8710    Streptopelia decaocto            Yellowstone National Park   \n",
      "10038          Plantago major  Great Smoky Mountains National Park   \n",
      "10674           Arctium minus               Yosemite National Park   \n",
      "12381    Eleocharis palustris  Great Smoky Mountains National Park   \n",
      "13372     Hesperis matronalis                  Bryce National Park   \n",
      "16741       Prunella vulgaris  Great Smoky Mountains National Park   \n",
      "17378    Potentilla norvegica               Yosemite National Park   \n",
      "17577      Spilogale putorius            Yellowstone National Park   \n",
      "18141           Poa compressa  Great Smoky Mountains National Park   \n",
      "19392       Cichorium intybus            Yellowstone National Park   \n",
      "20294  Botrychium virginianum            Yellowstone National Park   \n",
      "20820    Monotropa hypopithys  Great Smoky Mountains National Park   \n",
      "21151     Trifolium campestre            Yellowstone National Park   \n",
      "22698            Salix exigua               Yosemite National Park   \n",
      "\n",
      "       observations  \n",
      "7263             62  \n",
      "8710            255  \n",
      "10038            90  \n",
      "10674           162  \n",
      "12381            62  \n",
      "13372           124  \n",
      "16741            75  \n",
      "17378           148  \n",
      "17577           256  \n",
      "18141            80  \n",
      "19392           266  \n",
      "20294           232  \n",
      "20820            73  \n",
      "21151           239  \n",
      "22698           186  \n"
     ]
    }
   ],
   "source": [
    "# OBSERVATION - Check for duplicates\n",
    "\n",
    "# Check for duplicates \n",
    "duplicate_rows = observations[observations.duplicated(['scientific_name', 'park_name', 'observations'])]                                  \n",
    "print(duplicate_rows)\n",
    "\n",
    "# 15 duplicate rows (a fractional % of entire data set)\n",
    "\n",
    "# Remove duplicate rows \n",
    "observations_clean = observations.drop_duplicates(subset=['scientific_name', 'park_name', 'observations'])\n",
    "\n"
   ]
  },
  {
   "cell_type": "code",
   "execution_count": 8,
   "metadata": {},
   "outputs": [
    {
     "name": "stdout",
     "output_type": "stream",
     "text": [
      "conservation_status\n",
      "Low Concern           5633\n",
      "Species of Concern     161\n",
      "Endangered              16\n",
      "Threatened              10\n",
      "In Recovery              4\n",
      "Name: count, dtype: int64\n"
     ]
    }
   ],
   "source": [
    "# SPECIES - Missing data conservation status\n",
    "\n",
    "# Looks like 5,633 missing data are for species with low concern for endangerment\n",
    "\n",
    "# Changed all NaN values to \"Low Concern\"\n",
    "\n",
    "species['conservation_status'] = species['conservation_status'].fillna('Low Concern')\n",
    "print(species['conservation_status'].value_counts())"
   ]
  },
  {
   "cell_type": "markdown",
   "metadata": {},
   "source": [
    "## ANALYSIS"
   ]
  },
  {
   "cell_type": "markdown",
   "metadata": {},
   "source": [
    "What is the distribution of conservation_status for animals?\n",
    "\n",
    "- The vast majority of species (97%) were not under conservation status. This can be seen in the analysis below. There are a total of 5,633 out of 5,824 species that do not have conservation status. These species have been renamed 'Low Concern' for this project. \n"
   ]
  },
  {
   "cell_type": "code",
   "execution_count": 9,
   "metadata": {},
   "outputs": [
    {
     "name": "stdout",
     "output_type": "stream",
     "text": [
      "category\n",
      "Vascular Plant       4470\n",
      "Bird                  521\n",
      "Nonvascular Plant     333\n",
      "Mammal                214\n",
      "Fish                  127\n",
      "Amphibian              80\n",
      "Reptile                79\n",
      "Name: count, dtype: int64\n",
      "\n"
     ]
    },
    {
     "name": "stderr",
     "output_type": "stream",
     "text": [
      "/var/folders/11/2n75byq52r1303jqk2mx23980000gp/T/ipykernel_10838/1643618034.py:16: FutureWarning: DataFrame.applymap has been deprecated. Use DataFrame.map instead.\n",
      "  formatted_table = table.applymap(lambda x: '< 1%' if 0 < x < 1 else f\"{x:.0f}%\")\n"
     ]
    },
    {
     "data": {
      "text/html": [
       "<div>\n",
       "<style scoped>\n",
       "    .dataframe tbody tr th:only-of-type {\n",
       "        vertical-align: middle;\n",
       "    }\n",
       "\n",
       "    .dataframe tbody tr th {\n",
       "        vertical-align: top;\n",
       "    }\n",
       "\n",
       "    .dataframe thead th {\n",
       "        text-align: right;\n",
       "    }\n",
       "</style>\n",
       "<table border=\"1\" class=\"dataframe\">\n",
       "  <thead>\n",
       "    <tr style=\"text-align: right;\">\n",
       "      <th>conservation_status</th>\n",
       "      <th>Low Concern</th>\n",
       "      <th>Species of Concern</th>\n",
       "      <th>Threatened</th>\n",
       "      <th>Endangered</th>\n",
       "      <th>In Recovery</th>\n",
       "    </tr>\n",
       "    <tr>\n",
       "      <th>category</th>\n",
       "      <th></th>\n",
       "      <th></th>\n",
       "      <th></th>\n",
       "      <th></th>\n",
       "      <th></th>\n",
       "    </tr>\n",
       "  </thead>\n",
       "  <tbody>\n",
       "    <tr>\n",
       "      <th>Amphibian</th>\n",
       "      <td>91%</td>\n",
       "      <td>5%</td>\n",
       "      <td>2%</td>\n",
       "      <td>1%</td>\n",
       "      <td>0%</td>\n",
       "    </tr>\n",
       "    <tr>\n",
       "      <th>Bird</th>\n",
       "      <td>85%</td>\n",
       "      <td>14%</td>\n",
       "      <td>0%</td>\n",
       "      <td>&lt; 1%</td>\n",
       "      <td>&lt; 1%</td>\n",
       "    </tr>\n",
       "    <tr>\n",
       "      <th>Fish</th>\n",
       "      <td>91%</td>\n",
       "      <td>3%</td>\n",
       "      <td>3%</td>\n",
       "      <td>2%</td>\n",
       "      <td>0%</td>\n",
       "    </tr>\n",
       "    <tr>\n",
       "      <th>Mammal</th>\n",
       "      <td>82%</td>\n",
       "      <td>13%</td>\n",
       "      <td>&lt; 1%</td>\n",
       "      <td>3%</td>\n",
       "      <td>&lt; 1%</td>\n",
       "    </tr>\n",
       "    <tr>\n",
       "      <th>Reptile</th>\n",
       "      <td>94%</td>\n",
       "      <td>6%</td>\n",
       "      <td>0%</td>\n",
       "      <td>0%</td>\n",
       "      <td>0%</td>\n",
       "    </tr>\n",
       "  </tbody>\n",
       "</table>\n",
       "</div>"
      ],
      "text/plain": [
       "conservation_status Low Concern Species of Concern Threatened Endangered  \\\n",
       "category                                                                   \n",
       "Amphibian                   91%                 5%         2%         1%   \n",
       "Bird                        85%                14%         0%       < 1%   \n",
       "Fish                        91%                 3%         3%         2%   \n",
       "Mammal                      82%                13%       < 1%         3%   \n",
       "Reptile                     94%                 6%         0%         0%   \n",
       "\n",
       "conservation_status In Recovery  \n",
       "category                         \n",
       "Amphibian                    0%  \n",
       "Bird                       < 1%  \n",
       "Fish                         0%  \n",
       "Mammal                     < 1%  \n",
       "Reptile                      0%  "
      ]
     },
     "execution_count": 9,
     "metadata": {},
     "output_type": "execute_result"
    }
   ],
   "source": [
    "# What is the distribution of conservation_status for animals?\n",
    "\n",
    "# View category types\n",
    "category_count = species['category'].value_counts()\n",
    "print(category_count)\n",
    "print()\n",
    "\n",
    "# Get distribuiton conservation status of animals only\n",
    "animal_categories = ['Bird', 'Mammal', 'Fish', 'Amphibian', 'Reptile']\n",
    "animals_only = species[species['category'].isin(animal_categories)]\n",
    "\n",
    "# Display table of distribution percentages\n",
    "conservation_status_order = ['Low Concern', 'Species of Concern', 'Threatened', 'Endangered', 'In Recovery']\n",
    "table = pd.crosstab(index=animals_only['category'], columns=animals_only['conservation_status'], normalize='index') * 100\n",
    "table = table.reindex(columns=conservation_status_order).fillna(0)\n",
    "formatted_table = table.applymap(lambda x: '< 1%' if 0 < x < 1 else f\"{x:.0f}%\")\n",
    "\n",
    "formatted_table"
   ]
  },
  {
   "cell_type": "markdown",
   "metadata": {},
   "source": [
    "Are the differences between species and their conservation status significant?\n",
    "\n",
    "To compare the significance of all species and their conservation status, the species were reorganized into the catagories \"not protected\" and \"protected\". Not protected includes all species with low concern conservation status and protected includes all conservation statuses other than low concern. \n",
    "\n",
    "- Results all species\n",
    "According to the chi2 analysis below, there is a significant association between the species and their protection status. This is supported by the p value 5.5 ^-89 which is practically zero. "
   ]
  },
  {
   "cell_type": "code",
   "execution_count": 10,
   "metadata": {},
   "outputs": [
    {
     "data": {
      "text/html": [
       "<div>\n",
       "<style scoped>\n",
       "    .dataframe tbody tr th:only-of-type {\n",
       "        vertical-align: middle;\n",
       "    }\n",
       "\n",
       "    .dataframe tbody tr th {\n",
       "        vertical-align: top;\n",
       "    }\n",
       "\n",
       "    .dataframe thead th {\n",
       "        text-align: right;\n",
       "    }\n",
       "</style>\n",
       "<table border=\"1\" class=\"dataframe\">\n",
       "  <thead>\n",
       "    <tr style=\"text-align: right;\">\n",
       "      <th></th>\n",
       "      <th>category</th>\n",
       "      <th>not_protected</th>\n",
       "      <th>protected</th>\n",
       "    </tr>\n",
       "  </thead>\n",
       "  <tbody>\n",
       "    <tr>\n",
       "      <th>0</th>\n",
       "      <td>Amphibian</td>\n",
       "      <td>72</td>\n",
       "      <td>7</td>\n",
       "    </tr>\n",
       "    <tr>\n",
       "      <th>1</th>\n",
       "      <td>Bird</td>\n",
       "      <td>413</td>\n",
       "      <td>75</td>\n",
       "    </tr>\n",
       "    <tr>\n",
       "      <th>2</th>\n",
       "      <td>Fish</td>\n",
       "      <td>115</td>\n",
       "      <td>11</td>\n",
       "    </tr>\n",
       "    <tr>\n",
       "      <th>3</th>\n",
       "      <td>Mammal</td>\n",
       "      <td>146</td>\n",
       "      <td>30</td>\n",
       "    </tr>\n",
       "    <tr>\n",
       "      <th>4</th>\n",
       "      <td>Nonvascular Plant</td>\n",
       "      <td>328</td>\n",
       "      <td>5</td>\n",
       "    </tr>\n",
       "    <tr>\n",
       "      <th>5</th>\n",
       "      <td>Reptile</td>\n",
       "      <td>73</td>\n",
       "      <td>5</td>\n",
       "    </tr>\n",
       "    <tr>\n",
       "      <th>6</th>\n",
       "      <td>Vascular Plant</td>\n",
       "      <td>4216</td>\n",
       "      <td>46</td>\n",
       "    </tr>\n",
       "  </tbody>\n",
       "</table>\n",
       "</div>"
      ],
      "text/plain": [
       "            category  not_protected  protected\n",
       "0          Amphibian             72          7\n",
       "1               Bird            413         75\n",
       "2               Fish            115         11\n",
       "3             Mammal            146         30\n",
       "4  Nonvascular Plant            328          5\n",
       "5            Reptile             73          5\n",
       "6     Vascular Plant           4216         46"
      ]
     },
     "execution_count": 10,
     "metadata": {},
     "output_type": "execute_result"
    }
   ],
   "source": [
    "# Are the differences between all species and their conservation status significant?\n",
    "\n",
    "# Create new table showing species categories \"protected\" if they are NOT considered \"Low Concern\"\n",
    "\n",
    "species['is_protected'] = species.conservation_status != 'Low Concern'\n",
    "\n",
    "category_counts = species.groupby(['category', 'is_protected'])\\\n",
    "                        .scientific_name.nunique()\\\n",
    "                        .reset_index()\\\n",
    "                        .pivot(columns='is_protected',\n",
    "                                      index='category',\n",
    "                                      values='scientific_name')\\\n",
    "                        .reset_index()\n",
    "category_counts.columns = ['category', 'not_protected', 'protected']\n",
    "\n",
    "category_counts\n"
   ]
  },
  {
   "cell_type": "code",
   "execution_count": 11,
   "metadata": {},
   "outputs": [
    {
     "name": "stdout",
     "output_type": "stream",
     "text": [
      "Chi-Square Statistic: 426.5293138320011\n",
      "P-value: 5.5108280473137505e-89\n"
     ]
    }
   ],
   "source": [
    "# Gather all data into lists to run chi2 analysis for all species\n",
    "data = {\n",
    "    'category': ['Amphibian', 'Bird', 'Fish', 'Mammal', 'Nonvascular Plant', 'Reptile', 'Vascular Plant'],\n",
    "    'not_protected': [72, 413, 115, 146, 328, 73, 4216],\n",
    "    'protected': [7, 75, 11, 30, 5, 5, 46]\n",
    "}\n",
    "\n",
    "category_counts = pd.DataFrame(data)\n",
    "\n",
    "# Run chi 2 test\n",
    "\n",
    "from scipy.stats import chi2_contingency\n",
    "\n",
    "# Selecting only the numerical columns for the test\n",
    "observed_frequencies = category_counts[['not_protected', 'protected']]\n",
    "\n",
    "chi2, p, dof, expected = chi2_contingency(observed_frequencies)\n",
    "\n",
    "print(\"Chi-Square Statistic:\", chi2)\n",
    "print(\"P-value:\", p)"
   ]
  },
  {
   "cell_type": "markdown",
   "metadata": {},
   "source": [
    "Are certain types of species more likely to be endangered?\n",
    "For this analysis mammals, birds and reptiles were analysed. While the results suggest that there is not a significant relationship between mammals and birds, it does suggest that mammals have a higher rate of needing protection vs reptiles.\n",
    "\n",
    "- Results mammals and birds:\n",
    "The P value = 0.68 is greater than .05 indicating there is not a significant relationship between mammals and birds conservations status\n",
    "\n",
    "- Results mammals and reptiles:\n",
    "The P value = 0.038 is less than .05 indicating there is a significant difference between mammals and reptiles. It can be assumed that mammals have a higer rate of needing protection compared to reptiles."
   ]
  },
  {
   "cell_type": "code",
   "execution_count": 12,
   "metadata": {},
   "outputs": [
    {
     "data": {
      "text/plain": [
       "Chi2ContingencyResult(statistic=0.1617014831654557, pvalue=0.6875948096661336, dof=1, expected_freq=array([[ 27.8313253, 148.1686747],\n",
       "       [ 77.1686747, 410.8313253]]))"
      ]
     },
     "execution_count": 12,
     "metadata": {},
     "output_type": "execute_result"
    }
   ],
   "source": [
    "# statistical significance between mammals and birds\n",
    "\n",
    "# P value = 0.68 which is greater than .05 indicating there is not a significant relationship between mammals and birds\n",
    "\n",
    "contingency1 = [[30, 146],\n",
    "              [75, 413]]\n",
    "chi2_contingency(contingency1)\n"
   ]
  },
  {
   "cell_type": "code",
   "execution_count": 13,
   "metadata": {
    "scrolled": true
   },
   "outputs": [
    {
     "data": {
      "text/plain": [
       "Chi2ContingencyResult(statistic=4.289183096203645, pvalue=0.03835559022969898, dof=1, expected_freq=array([[ 24.2519685, 151.7480315],\n",
       "       [ 10.7480315,  67.2519685]]))"
      ]
     },
     "execution_count": 13,
     "metadata": {},
     "output_type": "execute_result"
    }
   ],
   "source": [
    "# statistical significance between mammals and reptiles\n",
    "\n",
    "# P value = 0.038 which is less than .05 indicating there is a significant difference between mammals and reptiles.\n",
    "# mammals have a higer rate of needing protection\n",
    "\n",
    "contingency2 = [[30, 146],\n",
    "              [5, 73]]\n",
    "chi2_contingency(contingency2)\n"
   ]
  },
  {
   "cell_type": "markdown",
   "metadata": {},
   "source": [
    "What's the distribution for protected species at each park?\n",
    " - All protected species were seen in the last 7 days. Each park had all protected species seen at them. \n",
    " - Yellowstone National Park had the most sitings of protected species (44,583, approx 43%)\n",
    " "
   ]
  },
  {
   "cell_type": "code",
   "execution_count": 14,
   "metadata": {},
   "outputs": [
    {
     "data": {
      "text/plain": [
       "park_name\n",
       "Bryce National Park                    179\n",
       "Great Smoky Mountains National Park    179\n",
       "Yellowstone National Park              179\n",
       "Yosemite National Park                 179\n",
       "Name: scientific_name, dtype: int64"
      ]
     },
     "execution_count": 14,
     "metadata": {},
     "output_type": "execute_result"
    }
   ],
   "source": [
    "# Filter for protected species\n",
    "protected_species = species[species['is_protected']]\n",
    "\n",
    "# Merge protected species with observations\n",
    "merged_protected_species = pd.merge(protected_species, observations_clean, on='scientific_name')\n",
    "\n",
    "\n",
    "# Amount of protected species per park\n",
    "# Count the unique protected species per park\n",
    "species_count_per_park = merged_protected_species.groupby('park_name')['scientific_name'].nunique()\n",
    "\n",
    "species_count_per_park\n"
   ]
  },
  {
   "cell_type": "code",
   "execution_count": 15,
   "metadata": {},
   "outputs": [
    {
     "name": "stdout",
     "output_type": "stream",
     "text": [
      "park_name\n",
      "Yellowstone National Park              44583\n",
      "Yosemite National Park                 26913\n",
      "Bryce National Park                    18609\n",
      "Great Smoky Mountains National Park    12816\n",
      "Name: observations, dtype: int64\n",
      "\n",
      "\n",
      "park_name\n",
      "Yellowstone National Park              43.317690\n",
      "Yosemite National Park                 26.149182\n",
      "Bryce National Park                    18.080858\n",
      "Great Smoky Mountains National Park    12.452269\n",
      "Name: observations, dtype: float64\n"
     ]
    }
   ],
   "source": [
    "# Which park had the most protected species spotted?\n",
    "# Sum the observations for each park\n",
    "total_observations_per_park = merged_protected_species.groupby('park_name')['observations'].sum()\n",
    "\n",
    "# Sort the total observations in descending order\n",
    "sorted_total_observations = total_observations_per_park.sort_values(ascending=False)\n",
    "\n",
    "print(sorted_total_observations)\n",
    "\n",
    "print()\n",
    "print()\n",
    "\n",
    "# Show proportions of parks with most protected species spotted\n",
    "# Calculate the total observations across all parks\n",
    "total_observations_all_parks = total_observations_per_park.sum()\n",
    "\n",
    "# Calculate the proportion of total observations for each park\n",
    "proportions_observations_per_park = total_observations_per_park.apply(lambda x: (x / total_observations_all_parks) * 100)\n",
    "\n",
    "# Sort the proportions in descending order\n",
    "sorted_proportions_observations = proportions_observations_per_park.sort_values(ascending=False)\n",
    "\n",
    "print(sorted_proportions_observations)"
   ]
  },
  {
   "cell_type": "markdown",
   "metadata": {},
   "source": [
    "Is there correlation between protected plant sightings and protected animal sighting at the parks?\n",
    "- Yes there is a very strong positive correlation (0.99 pearsons correlation) between protected plant sightings and protected animal sightings at the parks. This suggests that engangered plant species could possibly have a direct impact on protect animal species\n"
   ]
  },
  {
   "cell_type": "code",
   "execution_count": 16,
   "metadata": {},
   "outputs": [
    {
     "name": "stdout",
     "output_type": "stream",
     "text": [
      "species_type                         Animal  Plant\n",
      "park_name                                         \n",
      "Bryce National Park                   13925   4684\n",
      "Great Smoky Mountains National Park    9493   3323\n",
      "Yellowstone National Park             33698  10885\n",
      "Yosemite National Park                20251   6662\n",
      "\n",
      "species_type                            Animal      Plant\n",
      "park_name                                                \n",
      "Bryce National Park                  74.829384  25.170616\n",
      "Great Smoky Mountains National Park  74.071473  25.928527\n",
      "Yellowstone National Park            75.584864  24.415136\n",
      "Yosemite National Park               75.246164  24.753836\n"
     ]
    }
   ],
   "source": [
    "# Add a new column to classify as 'Plant' or 'Animal'\n",
    "merged_protected_species['species_type'] = merged_protected_species['category'].apply(lambda x: 'Plant' if 'Plant' in x else 'Animal')\n",
    "\n",
    "# Group sightings by park and species type\n",
    "total_observations_per_park_and_type = merged_protected_species.groupby(['park_name', 'species_type'])['observations'].sum().reset_index()\n",
    "\n",
    "pivot_table = total_observations_per_park_and_type.pivot(index='park_name', columns='species_type', values='observations').fillna(0)\n",
    "\n",
    "# Sort the pivot table by park name\n",
    "sorted_pivot_table = pivot_table.sort_index()\n",
    "\n",
    "print(sorted_pivot_table)\n",
    "\n",
    "print()\n",
    "\n",
    "# Show tables with proportions\n",
    "total_observations_by_park = sorted_pivot_table.sum(axis=1)\n",
    "proportions_pivot_table = sorted_pivot_table.divide(total_observations_by_park, axis=0)\n",
    "percentage_pivot_table = proportions_pivot_table * 100\n",
    "print(percentage_pivot_table)"
   ]
  },
  {
   "cell_type": "code",
   "execution_count": 17,
   "metadata": {},
   "outputs": [
    {
     "name": "stdout",
     "output_type": "stream",
     "text": [
      "Pearson's correlation coefficient: 0.9999925482607397\n"
     ]
    },
    {
     "data": {
      "image/png": "[encoded data removed]",
      "text/plain": [
       "<Figure size 640x480 with 1 Axes>"
      ]
     },
     "metadata": {},
     "output_type": "display_data"
    }
   ],
   "source": [
    "# Is there correlation between protected plant and protected animal sightings? \n",
    "\n",
    "# Add a new column to classify as 'Plant' or 'Animal'\n",
    "merged_protected_species['species_type'] = merged_protected_species['category'].apply(lambda x: 'Plant' if 'Plant' in x else 'Animal')\n",
    "\n",
    "# Group by park and species type, then sum the observations\n",
    "species_count_per_park_and_type = merged_protected_species.groupby(['park_name', 'species_type'])['observations'].sum().unstack()\n",
    "\n",
    "# Fill NaN values with 0 if there are parks with either no protected plants or animals\n",
    "species_count_per_park_and_type.fillna(0, inplace=True)\n",
    "\n",
    "# Calculate Pearson's correlation coefficient\n",
    "correlation = species_count_per_park_and_type['Plant'].corr(species_count_per_park_and_type['Animal'])\n",
    "\n",
    "print(\"Pearson's correlation coefficient:\", correlation)\n",
    "\n",
    "plt.scatter(species_count_per_park_and_type['Plant'], species_count_per_park_and_type['Animal'])\n",
    "plt.title('Correlation between Protected Plants and Animals Observations')\n",
    "plt.xlabel('Protected Plant Observations')\n",
    "plt.ylabel('Protected Animal Observations')\n",
    "plt.show()\n"
   ]
  },
  {
   "cell_type": "markdown",
   "metadata": {},
   "source": [
    "## Conclusions\n",
    "\n",
    "The project was able to make several data visualizations and inferences about the various species in four of the National Parks that comprised this data set.\n",
    "This project was also able to answer the following questions:\n",
    "\n",
    "- What is the distribution of conservation_status for animals?\n",
    "    - The vast majority of species were not part of conservation.(5,633 vs 191)\n",
    "- Are the differences between species and their conservation status significant?\n",
    "    - While mammals and Birds did not have significant difference in conservation percentage, mammals and reptiles exhibited a statistically significant difference. There was also a significance between all species and their conservation status.\n",
    "- Are certain types of species more likely to be endangered?\n",
    "    - Mammals and Birds had the highest percentage of being in protection. \n",
    "- What is the distribution for protected species at each park?\n",
    "    - All protected species were seen in the last 7 days. Each park had all protected species seen at them. \n",
    "    - Yellowstone National Park had the most sightings of protected species (44,583, approx 43%)\n",
    "    - Accross all four parks the sightings for protected species were approx 75% animals and 25% plants\n",
    "- Is there correlation between protected plant sightings and protected animal sightings?\n",
    "    - Yes there is a very strong positive correlation (0.99 pearsons correlation) between protected plant sightings and protected animal sightings at the parks. This suggests that engangered plant species could possibly have a direct impact on protect animal species\n",
    "    \n",
    "Overall, we learned that the amount species protected under conservation status sits around 3%, which is much lower than I expected. It's confirmed that out of the animals, mammals and birds have the highes risk for endangerment and reptiles have the lowest risk. All of the species under protective status were seen this past week in each park. Yellowstone had the highest number of protected species sightings. Accross all parks the sightings for protected species were approx 75% animals and 25% plants. There is a very strong correlation between protected species and protected animal sightings suggesting that endangered plant species could have a inpact on animal endangerment. "
   ]
  },
  {
   "cell_type": "markdown",
   "metadata": {},
   "source": [
    "## Further Research\n",
    "This dataset only included observations from the last 7 days which prohibits analyze changes over time. It would be curious to see how the conservation status for various species changes over time. Another piece that is missing is the Area of each park, it can be assumed that Yellowstone National Park might be much larger than the other parks which would mean that it would exhibit more observations and greater biodiversity. Lastly, if precise locations were recorded, the spatial distribution of the species could also be observed and test if these observations are spatially clustered. While there was a correlation between plants and animal observations, there would need to be additional studies to further research plants impact on animal endangerment. "
   ]
  }
 ],
 "metadata": {
  "kernelspec": {
   "display_name": "Python 3 (ipykernel)",
   "language": "python",
   "name": "python3"
  },
  "language_info": {
   "codemirror_mode": {
    "name": "ipython",
    "version": 3
   },
   "file_extension": ".py",
   "mimetype": "text/x-python",
   "name": "python",
   "nbconvert_exporter": "python",
   "pygments_lexer": "ipython3",
   "version": "3.11.5"
  }
 },
 "nbformat": 4,
 "nbformat_minor": 4
}
